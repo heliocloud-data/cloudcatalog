{
 "cells": [
  {
   "cell_type": "markdown",
   "id": "5bbcf617-f56a-4bd1-bcff-13f1879d48cd",
   "metadata": {},
   "source": [
    "# CloudCatalog (feat. CDAWeb/SDO/MMS/User data)\n",
    "\n",
    "Sandy Antunes (sandy.antunes@jhuapl.edu), https://github.com/heliocloud-data/cloudcatalog\n",
    "\n",
    "`pip install cloudcatalog`\n",
    "\n",
    "## Overall\n",
    "* CloudCatalog is a PyHC package (`import cloudcatalog`)\n",
    "* Used for 1PB+ of HelioCloud data (CDAWeb, SDO, MMS, EUV-ML, others)\n",
    "* HAPI-like: id + start + stop -> filelists\n",
    "* Allows self-publishing of data for Open Science\n",
    "\n",
    "## For data owners/publishers:\n",
    "* like HAPI, it is both a specification and an accompanying Python API\n",
    "* decentralized (data owners control their data)\n",
    "* simply creates a shareable and searchable index.\n",
    "\n",
    "## Behind the curtain\n",
    "* top-level JSON + CSV indices\n",
    "* serverless, lightweight\n",
    "* works for AWS S3 or conventional hosting (HTTP or HTTPS URLs)\n",
    "\n",
    "Bonus: tell HDRL about your top-level JSON file and your data is now indexed and findable by anyone using CloudCatalog.\n",
    "\n",
    "## Future\n",
    "* add hooks to PySpedas & HAPI?\n",
    "* tools for users to self-publish more easily and be index\n",
    "* integrate with VSO\n",
    "* cross-link with ESA DataLabs"
   ]
  },
  {
   "cell_type": "code",
   "execution_count": 39,
   "id": "688277a9-81bf-44e2-abd8-01b04518e38e",
   "metadata": {},
   "outputs": [],
   "source": [
    "import astropy.io.fits\n",
    "import cdflib\n",
    "import matplotlib.pyplot as plt"
   ]
  },
  {
   "cell_type": "code",
   "execution_count": 40,
   "id": "4db61b7e-a53b-4a17-bf24-20c6e961d888",
   "metadata": {},
   "outputs": [],
   "source": [
    "import cloudcatalog"
   ]
  },
  {
   "cell_type": "markdown",
   "id": "9e879704-7e19-4a4c-bc03-c0a2f964a7c4",
   "metadata": {
    "tags": []
   },
   "source": [
    "# Cloud Catalog Demo\n",
    "\n",
    "The CloudCatalog specification and accompanying Python client and demo notebook are a method for efficiently getting a list of data files stored in AWS S3 that are publicly accessible to scientists.  In addition to querying which datasets are available, users can directly retrieve the list of files in the form of 'start_time, stop_time, file key, filesize' as a Pandas DataFrame.\n",
    "\n",
    "We jump into a quick demo of fetching a day's worth of MMS1 files.  We then step back to show how to query the 'catalog of catalogs' to explore and find datasets.  We close with a more extended MMS demo that fetches the list of files then plots them directly from cloud storage (no intermediate file transfers needed).\n"
   ]
  },
  {
   "cell_type": "code",
   "execution_count": 44,
   "id": "3e4e0536-8be6-46f8-ab01-47087cfa78f5",
   "metadata": {},
   "outputs": [
    {
     "name": "stdout",
     "output_type": "stream",
     "text": [
      "Found 1496151 files for id aia_0094 over span 2010-05-13T00:00:00Z to 2022-12-31T23:56:00Z\n"
     ]
    }
   ],
   "source": [
    "# micro demo\n",
    "import cloudcatalog\n",
    "fr=cloudcatalog.CloudCatalog(\"s3://gov-nasa-hdrl-data1/\")\n",
    "frID = \"aia_0094\"\n",
    "myjson = fr.get_entry(frID)\n",
    "start, stop = myjson['start'], myjson['stop']\n",
    "file_registry1 = fr.request_cloud_catalog(frID, start_date=start, stop_date=stop)\n",
    "print(f\"Found {len(file_registry1)} files for id {frID} over span {start} to {stop}\")"
   ]
  },
  {
   "cell_type": "markdown",
   "id": "8da30f45-c93f-4cf9-bfe1-cdef051fe387",
   "metadata": {
    "tags": []
   },
   "source": [
    "## Setup\n",
    "The file catalog API is just \"import cloudcatalog\".  You also set a variable to point to where the global catalog of all known storage buckets (AWS S3 buckets) exist.  This is an index catalog that points to, basically, all known HelioClouds."
   ]
  },
  {
   "cell_type": "code",
   "execution_count": 23,
   "id": "5e92ddc5-b67f-419b-bce9-7e1192859132",
   "metadata": {
    "tags": []
   },
   "outputs": [],
   "source": [
    "import cloudcatalog"
   ]
  },
  {
   "cell_type": "markdown",
   "id": "9a488904-acf4-4730-8f1a-05955374e0c7",
   "metadata": {},
   "source": [
    "# HAPI-like queries\n",
    "\n",
    "We will start with the main usage, 'give me a list of files to operate on', then backfill the way to search and explore catalogs after this example case.\n",
    "\n",
    "CloudCatalog uses a HAPI-like query to get a list of files for a given dataset id, over a given time range.  For example:"
   ]
  },
  {
   "cell_type": "code",
   "execution_count": 45,
   "id": "342bde4f-6c15-4b42-9b5b-73740eef9bbf",
   "metadata": {},
   "outputs": [],
   "source": [
    "# one sample instruments and a time range\n",
    "dataset_id1 = 'MMS1_FEEPS_BRST_L2_ELECTRON'\n",
    "start = '2020-02-01T00:00:00Z'\n",
    "stop =   '2020-02-02T00:00:00Z'"
   ]
  },
  {
   "cell_type": "code",
   "execution_count": 46,
   "id": "14dca78e-e3b8-4193-80cc-0d645d411893",
   "metadata": {},
   "outputs": [],
   "source": [
    "# open up the global Catalog\n",
    "fr = cloudcatalog.CloudCatalog(\"s3://gov-nasa-hdrl-data1/\")"
   ]
  },
  {
   "cell_type": "code",
   "execution_count": 47,
   "id": "e55b94cf-afd9-451a-9696-9a8142676594",
   "metadata": {},
   "outputs": [
    {
     "name": "stdout",
     "output_type": "stream",
     "text": [
      "filekeys for  MMS1_FEEPS_BRST_L2_ELECTRON 2020-02-01T00:00:00Z 2020-02-02T00:00:00Z :\n",
      "                   start                stop  \\\n",
      "590 2020-02-01 07:55:23 2020-02-01 07:56:22   \n",
      "591 2020-02-01 08:17:13 2020-02-01 08:19:22   \n",
      "592 2020-02-01 08:19:23 2020-02-01 08:21:32   \n",
      "593 2020-02-01 08:21:33 2020-02-01 08:23:42   \n",
      "594 2020-02-01 08:23:43 2020-02-01 08:26:02   \n",
      "595 2020-02-01 08:26:03 2020-02-01 08:28:12   \n",
      "596 2020-02-01 08:28:13 2020-02-01 08:30:22   \n",
      "597 2020-02-01 08:30:23 2020-02-01 08:32:32   \n",
      "598 2020-02-01 08:37:13 2020-02-01 08:39:32   \n",
      "599 2020-02-01 08:39:33 2020-02-01 08:41:52   \n",
      "600 2020-02-01 08:41:53 2020-02-01 08:44:12   \n",
      "601 2020-02-01 08:44:13 2020-02-01 08:46:32   \n",
      "602 2020-02-01 08:46:33 2020-02-01 08:48:52   \n",
      "603 2020-02-01 08:48:53 2020-02-01 08:51:12   \n",
      "\n",
      "                                               datakey  filesize  \n",
      "590  s3://gov-nasa-hdrl-data1/spdf/cdaweb/data/mms/...   1742991  \n",
      "591  s3://gov-nasa-hdrl-data1/spdf/cdaweb/data/mms/...   3405073  \n",
      "592  s3://gov-nasa-hdrl-data1/spdf/cdaweb/data/mms/...   3405073  \n",
      "593  s3://gov-nasa-hdrl-data1/spdf/cdaweb/data/mms/...   3405073  \n",
      "594  s3://gov-nasa-hdrl-data1/spdf/cdaweb/data/mms/...   3637329  \n",
      "595  s3://gov-nasa-hdrl-data1/spdf/cdaweb/data/mms/...   3405073  \n",
      "596  s3://gov-nasa-hdrl-data1/spdf/cdaweb/data/mms/...   3397815  \n",
      "597  s3://gov-nasa-hdrl-data1/spdf/cdaweb/data/mms/...   3390557  \n",
      "598  s3://gov-nasa-hdrl-data1/spdf/cdaweb/data/mms/...   3637329  \n",
      "599  s3://gov-nasa-hdrl-data1/spdf/cdaweb/data/mms/...   3637329  \n",
      "600  s3://gov-nasa-hdrl-data1/spdf/cdaweb/data/mms/...   3644587  \n",
      "601  s3://gov-nasa-hdrl-data1/spdf/cdaweb/data/mms/...   3637329  \n",
      "602  s3://gov-nasa-hdrl-data1/spdf/cdaweb/data/mms/...   3637329  \n",
      "603  s3://gov-nasa-hdrl-data1/spdf/cdaweb/data/mms/...   3630071  \n"
     ]
    }
   ],
   "source": [
    "filekeys_id1 = fr.request_cloud_catalog(dataset_id1,start_date=start,stop_date=stop)\n",
    "print(\"filekeys for \",dataset_id1,start,stop,\":\\n\",filekeys_id1)"
   ]
  },
  {
   "cell_type": "markdown",
   "id": "8400f687-e3ba-4f50-a655-136e1f48447b",
   "metadata": {},
   "source": [
    "## Params"
   ]
  },
  {
   "cell_type": "markdown",
   "id": "056e6a50-797e-42f7-9ac2-b8eef423e7b9",
   "metadata": {},
   "source": [
    "Now you can feed that list of file S3 locations to your program and work with your files.  Here's a simple example of looking at the metadata for the (arbitrarily chosen) 3rd file in that Pandas DataFrame:"
   ]
  },
  {
   "cell_type": "code",
   "execution_count": 48,
   "id": "401666de-70c7-456b-9737-ecc8a35b8c35",
   "metadata": {},
   "outputs": [
    {
     "name": "stdout",
     "output_type": "stream",
     "text": [
      "All info on item 3: start                                     2020-02-01 08:19:23\n",
      "stop                                      2020-02-01 08:21:32\n",
      "datakey     s3://gov-nasa-hdrl-data1/spdf/cdaweb/data/mms/...\n",
      "filesize                                              3405073\n",
      "Name: 592, dtype: object\n",
      "Just the S3 key: s3://gov-nasa-hdrl-data1/spdf/cdaweb/data/mms/mms1/feeps/brst/l2/electron/2020/02/mms1_feeps_brst_l2_electron_20200201081923_v7.1.1.cdf\n"
     ]
    }
   ],
   "source": [
    "print(\"All info on item 3:\",filekeys_id1.iloc[2])\n",
    "print(\"Just the S3 key:\",filekeys_id1.iloc[2]['datakey'])"
   ]
  },
  {
   "cell_type": "markdown",
   "id": "58c930c4-a862-4000-a833-91d18c0d8975",
   "metadata": {},
   "source": [
    "You can skip to the example at the end, where we actually access the files.  But first, what is CloudCatalog and how to use?\n",
    "\n",
    "# Catalog of Catalogs\n",
    "Now we step back to explore the catalogs that are available, to work up to that example.\n",
    "\n",
    "The 'CatalogRegistry()' call fetches a list of all S3 'buckets' (data repositories) that are known to the HelioCloud network.  This is the 'catalog of catalogs'.\n",
    "\n",
    "For HelioCloud, this specification creates a global data registry of publicly-accessible disks ('HelioDataRegistry'), maintained at the HDRL HelioCloud.org website. Individual dataset owners then define their dataset file catalogs ('CloudCatalog') for each dataset, that resides in the S3 (or equivalent) bucket alongside the dataset.\n",
    "\n",
    "That global 'HelioDataRegistry.json' is a minimal JSON file that only lists buckets (disks) that contain one or more dataset. It consists of name and endpoint and lists buckets as endpoints, not datasets. Tools for fetching individual dataset indices visit each endpoint to get the CloudCatalog-format catalog.json listing datasets available in that bucket. These 'CloudCatalog' consist of the required index to the actual files, and an optional dataset summary file. The CloudCatalog itself is a set of _YYYY.csv (or csp-zip or parquet) index files, one per year. The optional summary file is named .json file and provides additional potentially searchable metadata.\n",
    "\n",
    "Findability is through the 'HelioDataRegistry' JSON index of S3 buckets, which crawls the catalog.json for each S3 bucket that indicates available datasets, which points to the individual dataset file catalog index files _YYYY.csv and its optional associated .info metadata auxillary file.\n",
    "\n",
    "Accessing the actual data involves accessing each dataset's catalog index files. The CloudCatalog consists of CSV files, one per year. Therefore, a user has the choice to:\n",
    "\n",
    "(a) directly download the CSV index file(s)\n",
    "(b) use our provided Python API to fetch a subset of the CSV file,"
   ]
  },
  {
   "cell_type": "code",
   "execution_count": 51,
   "id": "75318353-6f56-4def-b513-d8bd18cd7958",
   "metadata": {},
   "outputs": [
    {
     "name": "stdout",
     "output_type": "stream",
     "text": [
      "\n",
      "get_catalog() provides JSON metadata for the Catalog of Catalogs, plus a list of known catalogs: {'version': '0.4', 'modification': '2022-01-01T00:00Z', 'registry': [{'endpoint': 's3://gov-nasa-hdrl-data1/', 'name': 'HelioCloud, including SDO', 'region': 'us-east-1'}]}\n",
      "\n",
      "get_registry() is a list of all known endpoints: [{'endpoint': 's3://gov-nasa-hdrl-data1/', 'name': 'HelioCloud, including SDO', 'region': 'us-east-1'}]\n",
      "\n",
      "get_endpoint: s3://gov-nasa-hdrl-data1/\n"
     ]
    }
   ],
   "source": [
    "cr=cloudcatalog.CatalogRegistry()\n",
    "cat = cr.get_catalog()\n",
    "print(\"\\nget_catalog() provides JSON metadata for the Catalog of Catalogs, plus a list of known catalogs:\",cat)\n",
    "reg = cr.get_registry()\n",
    "print(\"\\nget_registry() is a list of all known endpoints:\",reg)\n",
    "url = cr.get_endpoint(\"HelioCloud, including SDO\")\n",
    "print(\"\\nget_endpoint:\",url)"
   ]
  },
  {
   "cell_type": "markdown",
   "id": "e7624a32-9f8d-4735-9f9c-251d292deecd",
   "metadata": {},
   "source": [
    "## Searching for data with EntireCatalogSearch\n",
    "\n",
    "This initial search accesses each HelioCloud's specific data holdings to create what you probably want, which is a list of all datasets available within the entire HelioCloud ecosystem.\n",
    "\n",
    "We include an example of a down or de-registered catalog to emphasize this index catalog points to HelioClouds, but doesn't manage them.\n",
    "\n"
   ]
  },
  {
   "cell_type": "code",
   "execution_count": 52,
   "id": "9f00a411-42e5-426f-9f5d-d798d39c4b73",
   "metadata": {},
   "outputs": [],
   "source": [
    "mysearch = cloudcatalog.EntireCatalogSearch()"
   ]
  },
  {
   "cell_type": "markdown",
   "id": "fddac569-263e-45b6-9d12-ec1bd942cdcc",
   "metadata": {},
   "source": [
    "Now let us do something useful-- look for MMS ion data, or other items of interest."
   ]
  },
  {
   "cell_type": "code",
   "execution_count": 53,
   "id": "53f864e3-0ce3-4ab5-838a-a6ceee02d5fe",
   "metadata": {},
   "outputs": [
    {
     "name": "stdout",
     "output_type": "stream",
     "text": [
      "MMS1_FEEPS_SRVY_L2_ION\n",
      "MMS1_HPCA_SRVY_L2_ION\n",
      "MMS2_FEEPS_SRVY_L2_ION\n",
      "MMS2_HPCA_SRVY_L2_ION\n",
      "MMS3_FEEPS_SRVY_L2_ION\n",
      "MMS3_HPCA_SRVY_L2_ION\n",
      "MMS4_FEEPS_SRVY_L2_ION\n",
      "MMS4_HPCA_SRVY_L2_ION\n"
     ]
    }
   ],
   "source": [
    "# just the IDs\n",
    "for item in mysearch.search_by_id('SRVY_L2_ION'): print(item['id'])"
   ]
  },
  {
   "cell_type": "code",
   "execution_count": 54,
   "id": "7fb78465-3da1-4e58-8536-fdec109e7896",
   "metadata": {},
   "outputs": [
    {
     "data": {
      "text/plain": [
       "[{'id': 'aia_0094',\n",
       "  'title': 'AIA 0094 FITS data',\n",
       "  'index': 's3://gov-nasa-hdrl-data1/sdo/aia/registries/',\n",
       "  'start': '2010-05-13T00:00:00Z',\n",
       "  'stop': '2022-12-31T23:56:00Z',\n",
       "  'modification': '2023-05-04T00:00:00Z',\n",
       "  'indextype': 'csv',\n",
       "  'filetype': 'fits'},\n",
       " {'id': 'euvml_soho_194',\n",
       "  'index': 's3://gov-nasa-hdrl-data1/contrib/euvml/registries/',\n",
       "  'title': 'EUV-ML 194A dataset, SOHO-only',\n",
       "  'start': '1996-01-01T00:00.00Z',\n",
       "  'stop': '2020-12-31T00:00.00Z',\n",
       "  'modification': '2024-06-03T00:00.00Z',\n",
       "  'indextype': 'csv',\n",
       "  'filetype': 'fits',\n",
       "  'description': 'EUVML set of SOHO/EIT 512x512 unified ML-ready FITS images, 194A only',\n",
       "  'resource': 'DOI tbd',\n",
       "  'creation': '2023-11-01T00:00.00Z',\n",
       "  'citation': 'tbd',\n",
       "  'contact': 'JHUAPL.edu',\n",
       "  'about': 'optional website URL for info, team, etc'},\n",
       " {'id': 'euvml_stereoa_194',\n",
       "  'index': 's3://gov-nasa-hdrl-data1/contrib/euvml/registries/',\n",
       "  'title': 'EUV-ML 194A dataset, STEREO-A only',\n",
       "  'start': '2007-01-01T00:00.00Z',\n",
       "  'stop': '2021-12-31T00:00.00Z',\n",
       "  'modification': '2024-06-03T00:00.00Z',\n",
       "  'indextype': 'csv',\n",
       "  'filetype': 'fits',\n",
       "  'description': 'EUVML set of STEREO-A/EUVI 512x512 unified ML-ready FITS images, 194A only',\n",
       "  'resource': 'DOI tbd',\n",
       "  'creation': '2023-11-01T00:00.00Z',\n",
       "  'citation': 'tbd',\n",
       "  'contact': 'JHUAPL.edu',\n",
       "  'about': 'optional website URL for info, team, etc'},\n",
       " {'id': 'euvml_stereob_194',\n",
       "  'index': 's3://gov-nasa-hdrl-data1/contrib/euvml/registries/',\n",
       "  'title': 'EUV-ML 194A dataset, STEREO-B only',\n",
       "  'start': '2008-01-01T00:00.00Z',\n",
       "  'stop': '2014-12-31T00:00.00Z',\n",
       "  'modification': '2024-06-03T00:00.00Z',\n",
       "  'indextype': 'csv',\n",
       "  'filetype': 'fits',\n",
       "  'description': 'EUVML set of STEREO-B/EUVI 512x512 unified ML-ready FITS images, 194A only',\n",
       "  'resource': 'DOI tbd',\n",
       "  'creation': '2023-11-01T00:00.00Z',\n",
       "  'citation': 'tbd',\n",
       "  'contact': 'JHUAPL.edu',\n",
       "  'about': 'optional website URL for info, team, etc'},\n",
       " {'id': 'ST5-094_1SEC_MAG',\n",
       "  'index': 's3://gov-nasa-hdrl-data1/spdf/cdaweb/st5/094/mag/',\n",
       "  'title': '3 component magnetic field from miniature tri-axial magnetometer on ST5/spacecraft 094 (middle position in string-of-pearls constellation) - Delores Knipp (University of Colorado, Boulder)',\n",
       "  'start': '2006-03-26T19:45:50.000Z',\n",
       "  'stop': '2006-06-25T02:52:18.000Z',\n",
       "  'resource': 'https://cdaweb.gsfc.nasa.gov/misc/NotesS.html#ST5-094_1SEC_MAG',\n",
       "  'contact': 'Delores Knipp',\n",
       "  'about': 'https://cdaweb.gsfc.nasa.gov/misc/NotesS.html#ST5-094_1SEC_MAG',\n",
       "  'collections': ['CDAWeb']}]"
      ]
     },
     "execution_count": 54,
     "metadata": {},
     "output_type": "execute_result"
    }
   ],
   "source": [
    "# raw search, all details\n",
    "mysearch.search_by_id('94')"
   ]
  },
  {
   "cell_type": "code",
   "execution_count": 55,
   "id": "f8284234-98b6-4c61-b08d-2bb63d95497a",
   "metadata": {},
   "outputs": [
    {
     "name": "stdout",
     "output_type": "stream",
     "text": [
      "aia_0094\n",
      "aia_0131\n",
      "aia_0171\n",
      "aia_0193\n",
      "aia_0211\n",
      "aia_0304\n",
      "aia_0335\n",
      "aia_1600\n",
      "aia_1700\n",
      "MMS1_FEEPS_BRST_L2_ELECTRON\n",
      "MMS1_FEEPS_BRST_L2_ION\n",
      "MMS1_FEEPS_SRVY_L2_ELECTRON\n",
      "MMS1_FEEPS_SRVY_L2_ION\n",
      "MMS2_FEEPS_BRST_L2_ELECTRON\n",
      "MMS2_FEEPS_BRST_L2_ION\n",
      "MMS2_FEEPS_SRVY_L2_ELECTRON\n",
      "MMS2_FEEPS_SRVY_L2_ION\n",
      "MMS3_FEEPS_BRST_L2_ELECTRON\n",
      "MMS3_FEEPS_BRST_L2_ION\n",
      "MMS3_FEEPS_SRVY_L2_ELECTRON\n",
      "MMS3_FEEPS_SRVY_L2_ION\n",
      "MMS4_FEEPS_BRST_L2_ELECTRON\n",
      "MMS4_FEEPS_BRST_L2_ION\n",
      "MMS4_FEEPS_SRVY_L2_ELECTRON\n",
      "MMS4_FEEPS_SRVY_L2_ION\n"
     ]
    }
   ],
   "source": [
    "# looking for lots of things\n",
    "for item in mysearch.search_by_keywords(['aia','apples','flys eye']): print(item['id'])"
   ]
  },
  {
   "cell_type": "markdown",
   "id": "b15df548-c5e1-413a-85e2-9d3e10b87d73",
   "metadata": {
    "tags": []
   },
   "source": [
    "## Working with the global catalog\n",
    "This is primarily for admins and people looking for background information on other HelioClouds (rather than on other datasets).\n"
   ]
  },
  {
   "cell_type": "code",
   "execution_count": 60,
   "id": "fcbc3652-6191-41b0-8407-217c54360852",
   "metadata": {},
   "outputs": [],
   "source": [
    "cr = cloudcatalog.CatalogRegistry()"
   ]
  },
  {
   "cell_type": "code",
   "execution_count": 61,
   "id": "cd09c713-0006-421d-94cb-353073432bea",
   "metadata": {},
   "outputs": [
    {
     "data": {
      "text/plain": [
       "{'version': '0.4',\n",
       " 'modification': '2022-01-01T00:00Z',\n",
       " 'registry': [{'endpoint': 's3://gov-nasa-hdrl-data1/',\n",
       "   'name': 'HelioCloud, including SDO',\n",
       "   'region': 'us-east-1'}]}"
      ]
     },
     "execution_count": 61,
     "metadata": {},
     "output_type": "execute_result"
    }
   ],
   "source": [
    "cr.get_catalog()"
   ]
  },
  {
   "cell_type": "code",
   "execution_count": 62,
   "id": "371e2b32-1533-4e4d-be2a-e2215f562eb0",
   "metadata": {},
   "outputs": [
    {
     "data": {
      "text/plain": [
       "[{'endpoint': 's3://gov-nasa-hdrl-data1/',\n",
       "  'name': 'HelioCloud, including SDO',\n",
       "  'region': 'us-east-1'}]"
      ]
     },
     "execution_count": 62,
     "metadata": {},
     "output_type": "execute_result"
    }
   ],
   "source": [
    "cr.get_registry()"
   ]
  },
  {
   "cell_type": "code",
   "execution_count": 63,
   "id": "a67bde5f-4f5b-4f21-abdd-8fe92468675b",
   "metadata": {},
   "outputs": [
    {
     "data": {
      "text/plain": [
       "'s3://gov-nasa-hdrl-data1/'"
      ]
     },
     "execution_count": 63,
     "metadata": {},
     "output_type": "execute_result"
    }
   ],
   "source": [
    "endpoint = cr.get_endpoint('HelioCloud, including SDO')\n",
    "endpoint"
   ]
  },
  {
   "cell_type": "code",
   "execution_count": 64,
   "id": "47b803bd-dd45-4bd6-8d35-8c56a29f39c5",
   "metadata": {},
   "outputs": [
    {
     "data": {
      "text/plain": [
       "{'version': '0.4',\n",
       " 'modification': '2022-01-01T00:00Z',\n",
       " 'registry': [{'endpoint': 's3://gov-nasa-hdrl-data1/',\n",
       "   'name': 'HelioCloud, including SDO',\n",
       "   'region': 'us-east-1'}]}"
      ]
     },
     "execution_count": 64,
     "metadata": {},
     "output_type": "execute_result"
    }
   ],
   "source": [
    "cr.catalog"
   ]
  },
  {
   "cell_type": "markdown",
   "id": "93ad4736-f3b8-41e5-8dca-c8dfa006e4fc",
   "metadata": {},
   "source": [
    "## Working with a local catalog\n",
    "Here we browse all the data holdings within a specific disk."
   ]
  },
  {
   "cell_type": "code",
   "execution_count": 65,
   "id": "2e801f1c-eecf-45be-9dc4-46b0dc32eb2b",
   "metadata": {
    "tags": []
   },
   "outputs": [],
   "source": [
    "fr=cloudcatalog.CloudCatalog(\"s3://gov-nasa-hdrl-data1/\")                        "
   ]
  },
  {
   "cell_type": "code",
   "execution_count": 67,
   "id": "c459c1f5-5d9d-4a12-b4ba-2d7189a0ca67",
   "metadata": {
    "tags": []
   },
   "outputs": [
    {
     "name": "stdout",
     "output_type": "stream",
     "text": [
      "Here's the first three entries:\n",
      "{'id': 'aia_0094', 'title': 'AIA 0094 FITS data', 'index': 's3://gov-nasa-hdrl-data1/sdo/aia/registries/', 'start': '2010-05-13T00:00:00Z', 'stop': '2022-12-31T23:56:00Z', 'modification': '2023-05-04T00:00:00Z', 'indextype': 'csv', 'filetype': 'fits'}\n",
      "{'id': 'aia_0131', 'index': 's3://gov-nasa-hdrl-data1/sdo/aia/registries/', 'title': 'AIA 0131 FITS data', 'start': '2015-06-01T00:00:00Z', 'stop': '2021-12-31T23:59:59Z', 'modification': '2023-05-04:00:00:00Z', 'indextype': 'csv', 'filetype': 'fits'}\n",
      "{'id': 'aia_0171', 'index': 's3://gov-nasa-hdrl-data1/sdo/aia/registries/', 'title': 'AIA 0171 FITS data', 'start': '2015-06-01T00:00:00Z', 'stop': '2021-12-31T23:59:59Z', 'modification': '2023-05-04:00:00:00Z', 'indextype': 'csv', 'filetype': 'fits'}\n"
     ]
    }
   ],
   "source": [
    "catalogs = fr.get_catalog()['catalog']\n",
    "print(f\"Here's the first three entries:\")\n",
    "for i in range(3): print(f\"{catalogs[i]}\")"
   ]
  },
  {
   "cell_type": "markdown",
   "id": "1f36f4c2-2167-44ce-8720-1daa307bce81",
   "metadata": {},
   "source": [
    "# Useful search\n",
    "Given a dataset ID (from searching above or by knowing a dataset name from another catalog or search tool or even email), we can get a list of files for our desired dataset within our desired timespan.  Here's our example dataset from before:"
   ]
  },
  {
   "cell_type": "code",
   "execution_count": 68,
   "id": "7122f0cf-de3a-4424-8cfd-bd4a203113e4",
   "metadata": {},
   "outputs": [],
   "source": [
    "# one sample instruments and a time range\n",
    "dataset_id1 = 'MMS1_FEEPS_BRST_L2_ELECTRON'\n",
    "start = '2020-02-01T00:00:00Z'\n",
    "stop =   '2020-02-02T00:00:00Z'"
   ]
  },
  {
   "cell_type": "markdown",
   "id": "9252c663-3d12-4da5-a32a-3099b996eb3c",
   "metadata": {},
   "source": [
    "Each dataset has metadata (in JSON format) providing additional information.  Here is an example."
   ]
  },
  {
   "cell_type": "code",
   "execution_count": 69,
   "id": "d964379a-90f4-4250-af42-964e6efdd8c4",
   "metadata": {},
   "outputs": [
    {
     "name": "stdout",
     "output_type": "stream",
     "text": [
      "{'id': 'MMS1_FEEPS_BRST_L2_ELECTRON', 'index': 's3://gov-nasa-hdrl-data1/spdf/cdaweb/data/mms/indices/', 'title': 'Level 2 Flys Eye Energetic Particle Sensor Burst Data - STP (LASP)', 'start': '2015-09-01T00:00:00.000Z', 'stop': '2024-08-22T23:59:59.000Z', 'indextype': 'csv', 'filetype': 'CDF', 'resource': 'https://cdaweb.gsfc.nasa.gov/misc/NotesM.html#MMS1_FEEPS_BRST_L2_ELECTRON', 'contact': 'STP', 'about': 'https://cdaweb.gsfc.nasa.gov/misc/NotesM.html#MMS1_FEEPS_BRST_L2_ELECTRON', 'collections': ['CDAWeb', 'MMS']}\n"
     ]
    }
   ],
   "source": [
    "print(fr.get_entry(dataset_id1))"
   ]
  },
  {
   "cell_type": "markdown",
   "id": "f12bbdb3-361b-40f0-b00e-08832db7e11c",
   "metadata": {},
   "source": [
    "Now we get the actual file list of data items for our given instrument in our given time range."
   ]
  },
  {
   "cell_type": "code",
   "execution_count": 70,
   "id": "15581bf1-cebd-4ad5-8100-f5a0fb08f3d8",
   "metadata": {},
   "outputs": [],
   "source": [
    "file_registry1 = fr.request_cloud_catalog(dataset_id1, start_date=start, stop_date=stop, overwrite=False)"
   ]
  },
  {
   "cell_type": "code",
   "execution_count": 71,
   "id": "8bb727b6-4e7a-4a80-882c-32e145345fd7",
   "metadata": {},
   "outputs": [
    {
     "data": {
      "text/html": [
       "<div>\n",
       "<style scoped>\n",
       "    .dataframe tbody tr th:only-of-type {\n",
       "        vertical-align: middle;\n",
       "    }\n",
       "\n",
       "    .dataframe tbody tr th {\n",
       "        vertical-align: top;\n",
       "    }\n",
       "\n",
       "    .dataframe thead th {\n",
       "        text-align: right;\n",
       "    }\n",
       "</style>\n",
       "<table border=\"1\" class=\"dataframe\">\n",
       "  <thead>\n",
       "    <tr style=\"text-align: right;\">\n",
       "      <th></th>\n",
       "      <th>start</th>\n",
       "      <th>stop</th>\n",
       "      <th>datakey</th>\n",
       "      <th>filesize</th>\n",
       "    </tr>\n",
       "  </thead>\n",
       "  <tbody>\n",
       "    <tr>\n",
       "      <th>590</th>\n",
       "      <td>2020-02-01 07:55:23</td>\n",
       "      <td>2020-02-01 07:56:22</td>\n",
       "      <td>s3://gov-nasa-hdrl-data1/spdf/cdaweb/data/mms/...</td>\n",
       "      <td>1742991</td>\n",
       "    </tr>\n",
       "    <tr>\n",
       "      <th>591</th>\n",
       "      <td>2020-02-01 08:17:13</td>\n",
       "      <td>2020-02-01 08:19:22</td>\n",
       "      <td>s3://gov-nasa-hdrl-data1/spdf/cdaweb/data/mms/...</td>\n",
       "      <td>3405073</td>\n",
       "    </tr>\n",
       "    <tr>\n",
       "      <th>592</th>\n",
       "      <td>2020-02-01 08:19:23</td>\n",
       "      <td>2020-02-01 08:21:32</td>\n",
       "      <td>s3://gov-nasa-hdrl-data1/spdf/cdaweb/data/mms/...</td>\n",
       "      <td>3405073</td>\n",
       "    </tr>\n",
       "    <tr>\n",
       "      <th>593</th>\n",
       "      <td>2020-02-01 08:21:33</td>\n",
       "      <td>2020-02-01 08:23:42</td>\n",
       "      <td>s3://gov-nasa-hdrl-data1/spdf/cdaweb/data/mms/...</td>\n",
       "      <td>3405073</td>\n",
       "    </tr>\n",
       "    <tr>\n",
       "      <th>594</th>\n",
       "      <td>2020-02-01 08:23:43</td>\n",
       "      <td>2020-02-01 08:26:02</td>\n",
       "      <td>s3://gov-nasa-hdrl-data1/spdf/cdaweb/data/mms/...</td>\n",
       "      <td>3637329</td>\n",
       "    </tr>\n",
       "    <tr>\n",
       "      <th>595</th>\n",
       "      <td>2020-02-01 08:26:03</td>\n",
       "      <td>2020-02-01 08:28:12</td>\n",
       "      <td>s3://gov-nasa-hdrl-data1/spdf/cdaweb/data/mms/...</td>\n",
       "      <td>3405073</td>\n",
       "    </tr>\n",
       "    <tr>\n",
       "      <th>596</th>\n",
       "      <td>2020-02-01 08:28:13</td>\n",
       "      <td>2020-02-01 08:30:22</td>\n",
       "      <td>s3://gov-nasa-hdrl-data1/spdf/cdaweb/data/mms/...</td>\n",
       "      <td>3397815</td>\n",
       "    </tr>\n",
       "    <tr>\n",
       "      <th>597</th>\n",
       "      <td>2020-02-01 08:30:23</td>\n",
       "      <td>2020-02-01 08:32:32</td>\n",
       "      <td>s3://gov-nasa-hdrl-data1/spdf/cdaweb/data/mms/...</td>\n",
       "      <td>3390557</td>\n",
       "    </tr>\n",
       "    <tr>\n",
       "      <th>598</th>\n",
       "      <td>2020-02-01 08:37:13</td>\n",
       "      <td>2020-02-01 08:39:32</td>\n",
       "      <td>s3://gov-nasa-hdrl-data1/spdf/cdaweb/data/mms/...</td>\n",
       "      <td>3637329</td>\n",
       "    </tr>\n",
       "    <tr>\n",
       "      <th>599</th>\n",
       "      <td>2020-02-01 08:39:33</td>\n",
       "      <td>2020-02-01 08:41:52</td>\n",
       "      <td>s3://gov-nasa-hdrl-data1/spdf/cdaweb/data/mms/...</td>\n",
       "      <td>3637329</td>\n",
       "    </tr>\n",
       "    <tr>\n",
       "      <th>600</th>\n",
       "      <td>2020-02-01 08:41:53</td>\n",
       "      <td>2020-02-01 08:44:12</td>\n",
       "      <td>s3://gov-nasa-hdrl-data1/spdf/cdaweb/data/mms/...</td>\n",
       "      <td>3644587</td>\n",
       "    </tr>\n",
       "    <tr>\n",
       "      <th>601</th>\n",
       "      <td>2020-02-01 08:44:13</td>\n",
       "      <td>2020-02-01 08:46:32</td>\n",
       "      <td>s3://gov-nasa-hdrl-data1/spdf/cdaweb/data/mms/...</td>\n",
       "      <td>3637329</td>\n",
       "    </tr>\n",
       "    <tr>\n",
       "      <th>602</th>\n",
       "      <td>2020-02-01 08:46:33</td>\n",
       "      <td>2020-02-01 08:48:52</td>\n",
       "      <td>s3://gov-nasa-hdrl-data1/spdf/cdaweb/data/mms/...</td>\n",
       "      <td>3637329</td>\n",
       "    </tr>\n",
       "    <tr>\n",
       "      <th>603</th>\n",
       "      <td>2020-02-01 08:48:53</td>\n",
       "      <td>2020-02-01 08:51:12</td>\n",
       "      <td>s3://gov-nasa-hdrl-data1/spdf/cdaweb/data/mms/...</td>\n",
       "      <td>3630071</td>\n",
       "    </tr>\n",
       "  </tbody>\n",
       "</table>\n",
       "</div>"
      ],
      "text/plain": [
       "                  start                stop  \\\n",
       "590 2020-02-01 07:55:23 2020-02-01 07:56:22   \n",
       "591 2020-02-01 08:17:13 2020-02-01 08:19:22   \n",
       "592 2020-02-01 08:19:23 2020-02-01 08:21:32   \n",
       "593 2020-02-01 08:21:33 2020-02-01 08:23:42   \n",
       "594 2020-02-01 08:23:43 2020-02-01 08:26:02   \n",
       "595 2020-02-01 08:26:03 2020-02-01 08:28:12   \n",
       "596 2020-02-01 08:28:13 2020-02-01 08:30:22   \n",
       "597 2020-02-01 08:30:23 2020-02-01 08:32:32   \n",
       "598 2020-02-01 08:37:13 2020-02-01 08:39:32   \n",
       "599 2020-02-01 08:39:33 2020-02-01 08:41:52   \n",
       "600 2020-02-01 08:41:53 2020-02-01 08:44:12   \n",
       "601 2020-02-01 08:44:13 2020-02-01 08:46:32   \n",
       "602 2020-02-01 08:46:33 2020-02-01 08:48:52   \n",
       "603 2020-02-01 08:48:53 2020-02-01 08:51:12   \n",
       "\n",
       "                                               datakey  filesize  \n",
       "590  s3://gov-nasa-hdrl-data1/spdf/cdaweb/data/mms/...   1742991  \n",
       "591  s3://gov-nasa-hdrl-data1/spdf/cdaweb/data/mms/...   3405073  \n",
       "592  s3://gov-nasa-hdrl-data1/spdf/cdaweb/data/mms/...   3405073  \n",
       "593  s3://gov-nasa-hdrl-data1/spdf/cdaweb/data/mms/...   3405073  \n",
       "594  s3://gov-nasa-hdrl-data1/spdf/cdaweb/data/mms/...   3637329  \n",
       "595  s3://gov-nasa-hdrl-data1/spdf/cdaweb/data/mms/...   3405073  \n",
       "596  s3://gov-nasa-hdrl-data1/spdf/cdaweb/data/mms/...   3397815  \n",
       "597  s3://gov-nasa-hdrl-data1/spdf/cdaweb/data/mms/...   3390557  \n",
       "598  s3://gov-nasa-hdrl-data1/spdf/cdaweb/data/mms/...   3637329  \n",
       "599  s3://gov-nasa-hdrl-data1/spdf/cdaweb/data/mms/...   3637329  \n",
       "600  s3://gov-nasa-hdrl-data1/spdf/cdaweb/data/mms/...   3644587  \n",
       "601  s3://gov-nasa-hdrl-data1/spdf/cdaweb/data/mms/...   3637329  \n",
       "602  s3://gov-nasa-hdrl-data1/spdf/cdaweb/data/mms/...   3637329  \n",
       "603  s3://gov-nasa-hdrl-data1/spdf/cdaweb/data/mms/...   3630071  "
      ]
     },
     "execution_count": 71,
     "metadata": {},
     "output_type": "execute_result"
    }
   ],
   "source": [
    "file_registry1"
   ]
  },
  {
   "cell_type": "markdown",
   "id": "26bf4bfa-16a0-4d07-b161-f1d8c7eac817",
   "metadata": {},
   "source": [
    "# Operating on files in bulk\n",
    "Here we can view metadata about the files, or plot them and otherwise extract data from them.  We include a built-in stream function for running lambdas, for when you don't want to write your own.\n",
    "\n",
    "`cloudcatalog.CloudCatalog.stream(cloud_catalog, lambda bfile, startdate, stopdate, filesize: print(len(bo.read()), filesize))`\n",
    "\n",
    "First, some simple metadata."
   ]
  },
  {
   "cell_type": "code",
   "execution_count": 72,
   "id": "be0897b3-73d7-458a-9d5d-240d556dd96c",
   "metadata": {},
   "outputs": [
    {
     "name": "stdout",
     "output_type": "stream",
     "text": [
      "Python Hash of File | Start Date | File Size\n",
      "5162677232957343766 2020-02-01T07:55:23Z 2020-02-01T07:56:22Z 1742991\n",
      "977208973268769877 2020-02-01T08:17:13Z 2020-02-01T08:19:22Z 3405073\n",
      "6008184138716624205 2020-02-01T08:19:23Z 2020-02-01T08:21:32Z 3405073\n",
      "-1619342246640331820 2020-02-01T08:21:33Z 2020-02-01T08:23:42Z 3405073\n",
      "-6272861188770683129 2020-02-01T08:23:43Z 2020-02-01T08:26:02Z 3637329\n",
      "4527380712738418399 2020-02-01T08:26:03Z 2020-02-01T08:28:12Z 3405073\n",
      "4634846114756382767 2020-02-01T08:28:13Z 2020-02-01T08:30:22Z 3397815\n",
      "5032979087236121782 2020-02-01T08:30:23Z 2020-02-01T08:32:32Z 3390557\n",
      "1600412266451434342 2020-02-01T08:37:13Z 2020-02-01T08:39:32Z 3637329\n",
      "-4481156844236193681 2020-02-01T08:39:33Z 2020-02-01T08:41:52Z 3637329\n"
     ]
    }
   ],
   "source": [
    "print('Python Hash of File | Start Date | File Size')\n",
    "fr.stream(file_registry1[0:10], lambda bo, d, e, f: print(hash(bo.read()), d.replace(' ', 'T')+'Z', e.replace(' ','T')+'Z',f))"
   ]
  },
  {
   "cell_type": "markdown",
   "id": "00861b46-1f2f-4daf-a2ac-94f52c5c35e3",
   "metadata": {},
   "source": [
    "We define a plotting routine for CDF files here. You can (as with any code) define whatever functions you want to rip through each datafile.  We chose to plot it for this demo to show the data is accessed via S3 and loaded into this program without having to copy any files around."
   ]
  },
  {
   "cell_type": "code",
   "execution_count": 73,
   "id": "0de74ccc-ad9e-44d5-a07d-409ab90e80f5",
   "metadata": {
    "tags": []
   },
   "outputs": [],
   "source": [
    "def plot_cdf(s3_uri, d, e, f):\n",
    "    print(\"fetching \",s3_uri)\n",
    "\n",
    "    cdf = cdflib.CDF(s3_uri)\n",
    "\n",
    "    # Get the variable name and its data\n",
    "    #var_name = cdf.cdf_info()[\"zVariables\"][2]\n",
    "    #var_data = cdf.varget(var_name)\n",
    "    var_data = cdf.varget(1)\n",
    "    var_name=\"data\"\n",
    "    # Plot the variable\n",
    "    plt.figure()\n",
    "    plt.plot(var_data)\n",
    "    plt.xlabel(\"Index\")\n",
    "    plt.ylabel(var_name)\n",
    "    plt.title(f\"Plot of {var_name}\")\n",
    "    plt.show()\n"
   ]
  },
  {
   "cell_type": "markdown",
   "id": "9f0b8261-89b9-429c-9a14-fca6ec797f8b",
   "metadata": {},
   "source": [
    "# The real stuff\n",
    "\n",
    "This is our simple runner that takes the file list and runs the plot command. In this case, we pull a subset of the list e.g.  file_registry1[:3] will pull only the first three files.\n"
   ]
  },
  {
   "cell_type": "code",
   "execution_count": 74,
   "id": "7d33dfe4-bca3-48b5-abf1-aecfd989955b",
   "metadata": {},
   "outputs": [
    {
     "name": "stdout",
     "output_type": "stream",
     "text": [
      "# of zVariables | Start Date | File Size\n",
      "fetching  s3://gov-nasa-hdrl-data1/spdf/cdaweb/data/mms/mms1/feeps/brst/l2/electron/2020/02/mms1_feeps_brst_l2_electron_20200201075523_v7.1.1.cdf\n"
     ]
    },
    {
     "data": {
      "image/png": "[encoded data removed]",
      "text/plain": [
       "<Figure size 640x480 with 1 Axes>"
      ]
     },
     "metadata": {},
     "output_type": "display_data"
    },
    {
     "name": "stdout",
     "output_type": "stream",
     "text": [
      "fetching  s3://gov-nasa-hdrl-data1/spdf/cdaweb/data/mms/mms1/feeps/brst/l2/electron/2020/02/mms1_feeps_brst_l2_electron_20200201081713_v7.1.1.cdf\n"
     ]
    },
    {
     "data": {
      "image/png": "[encoded data removed]",
      "text/plain": [
       "<Figure size 640x480 with 1 Axes>"
      ]
     },
     "metadata": {},
     "output_type": "display_data"
    },
    {
     "name": "stdout",
     "output_type": "stream",
     "text": [
      "fetching  s3://gov-nasa-hdrl-data1/spdf/cdaweb/data/mms/mms1/feeps/brst/l2/electron/2020/02/mms1_feeps_brst_l2_electron_20200201081923_v7.1.1.cdf\n"
     ]
    },
    {
     "data": {
      "image/png": "[encoded data removed]",
      "text/plain": [
       "<Figure size 640x480 with 1 Axes>"
      ]
     },
     "metadata": {},
     "output_type": "display_data"
    }
   ],
   "source": [
    "print('# of zVariables | Start Date | File Size')\n",
    "fr.stream_uri(file_registry1[:3], lambda s3_uri, d, e, f: plot_cdf(s3_uri, d, e, f))"
   ]
  },
  {
   "cell_type": "markdown",
   "id": "aea43080-89a2-4655-a83f-b95c96954fc6",
   "metadata": {},
   "source": [
    "That's it: find a dataset, get a list of files for a given time range, and operate on all the files in bulk."
   ]
  },
  {
   "cell_type": "markdown",
   "id": "5f088243-52df-4ef1-9c75-4ebbd2210f71",
   "metadata": {},
   "source": [
    "# Publishing Your Own Dataset\n",
    "\n",
    "The full spec is in the [cloudcatalog-spec.md](https://github.com/heliocloud-data/cloudcatalog/blob/develop/docs/cloudcatalog-spec.md)\n",
    "\n",
    "CloudCatalog works for (currently) AWS S3 or anything HTTP/HTTPS.  Here's a tiny example:\n",
    "\n",
    "\n",
    "```{\n",
    "    \"version\": \"1.0\",\n",
    "    \"name\": \"My Open Science\",\n",
    "    \"egress\": \"public, no-egress\",\n",
    "    \"contact\": \"Dr. Contact, dr_contact@example.com\",\n",
    "    \"description\": \"Optional description of this collection\",\n",
    "    \"citation\": \"Optional how to cite, preferably a DOI for the server\",\n",
    "    \"catalog\":[\n",
    "        {\n",
    "            \"id\": \"localtest\",\n",
    "            \"index\": \"http://ghostlibrary.com/sampledata/\",\n",
    "            \"title\": \"URL test data\",\n",
    "            \"start\": \"2025-05-01T00:00Z\",\n",
    "            \"stop\": \"2025-06-01T00:00Z\",\n",
    "            \"modification\": \"2025-06-01T00:00Z\",\n",
    "            \"indextype\": \"csv-zip\",\n",
    "            \"filetype\": \"cdf\"\n",
    "        }\n",
    "    ],\n",
    "    \"status\": {\n",
    "        \"code\": 1200,\n",
    "        \"message\": \"OK request successful\"\n",
    "    }\n",
    "}\n",
    "```\n",
    "\n",
    "That points to this directory on the server:\n",
    "```\n",
    "sampledata/localtest_2025.csv\n",
    "sampledata/Ruined_End_Times_Cliff_Top_Wizard_Tower_First_Floor.jpg\n",
    "sampledata/Ruined_End_Times_Cliff_Top_Wizard_Tower_Second_Floor.jpg\n",
    "(etc)\n",
    "```\n",
    "where that `localtest_2025.csv` file just lists the files available in CloudCatalog format:\n",
    "```\n",
    "# start, stop, datakey, filesize\n",
    "2025-05-08T12:05:30Z,2025-05-08T12:06:14Z,http://ghostlibrary.com/sampledata/Ruined_End_Times_Cliff_Top_Wizard_Tower_First_Floor.jpg,774000\n",
    "2025-05-09T12:05:30Z,2025-05-09T12:06:14Z,http://ghostlibrary.com/sampledata/Ruined_End_Times_Cliff_Top_Wizard_Tower_Second_Floor.jpg,774000\n",
    "2025-05-10T12:05:30Z,2025-05-10T12:06:14Z,http://ghostlibrary.com/sampledata/Ruined_End_Times_Cliff_Top_Wizard_Tower_Third_Floor.jpg,774000\n",
    "2025-05-11T12:05:30Z,2025-05-11T12:06:14Z,http://ghostlibrary.com/sampledata/Ruined_End_Times_Cliff_Top_Wizard_Tower_Fourth_Floor.jpg,774000\n",
    "```"
   ]
  },
  {
   "cell_type": "markdown",
   "id": "16d02b35-4bae-4033-98ad-4427366eca9f",
   "metadata": {},
   "source": [
    "# Takeaways\n",
    "\n",
    "CloudCatalog is a PyHC package (`import cloudcatalog`) that gives you access to the 1PB cloud versions of CDAWeb, SDO, MMS, EUV-ML, and other curated datasets.  It is very HAPI-like for users: give it an ID, start and stop and it returns URIs to files.  It also allows self-publishing of datasets.\n",
    "\n",
    "And like HAPI, it is both a specification and an accompanying Python API.  CloudCatalog is decentralized (data owners control their data) and simply creates a shareable and searchable index.\n",
    "\n",
    "CloudCatalog for self-publishing datasets requires making a top-level JSON file plus CSV indices, and now you have a lightweight serverless way to provide files via either AWS S3 or conventional web hosting (via direct HTTP or HTTPS URLs).\n",
    "\n",
    "Bonus: tell HDRL about your top-level JSON file and your data is now indexed and findable by anyone using CloudCatalog.\n",
    "\n",
    "Future: We'd love to work hook for CloudCatalog calls into other packages (esp. PySpedas and HAPI) so the cloud-stored data is fetchable within user's preferred toolsets.  We are making tools so it is easier for data creators to index their datasets."
   ]
  },
  {
   "cell_type": "markdown",
   "id": "d2bfd25c-e9da-4d42-9d8e-847868197e0b",
   "metadata": {},
   "source": [
    "# Exercise\n",
    "\n",
    "pip install cloudcatalog\n",
    "\n",
    "```\n",
    "import cloudcatalog\n",
    "fr = cloudcatalog.CloudCatalog(\"s3://gov-nasa-hdrl-data1/\")\n",
    "\n",
    "# Now find a cool CDAWeb dataset, or some SDO AIA data, or similar.\n",
    "```"
   ]
  },
  {
   "cell_type": "markdown",
   "id": "aa10f0c7-e30c-49fe-bfc7-c65085df4c9e",
   "metadata": {},
   "source": [
    "# Discussion\n",
    "https://github.com/heliocloud-data/cloudcatalog"
   ]
  },
  {
   "cell_type": "code",
   "execution_count": null,
   "id": "61e84aed-6645-4e9b-ace6-427c66d51417",
   "metadata": {},
   "outputs": [],
   "source": []
  }
 ],
 "metadata": {
  "kernelspec": {
   "display_name": "Python 3 (ipykernel)",
   "language": "python",
   "name": "python3"
  },
  "language_info": {
   "codemirror_mode": {
    "name": "ipython",
    "version": 3
   },
   "file_extension": ".py",
   "mimetype": "text/x-python",
   "name": "python",
   "nbconvert_exporter": "python",
   "pygments_lexer": "ipython3",
   "version": "3.11.11"
  }
 },
 "nbformat": 4,
 "nbformat_minor": 5
}
